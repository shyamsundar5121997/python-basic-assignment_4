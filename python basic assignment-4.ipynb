{
 "cells": [
  {
   "cell_type": "markdown",
   "id": "7cafafde",
   "metadata": {},
   "source": [
    "1. What exactly is []?"
   ]
  },
  {
   "cell_type": "code",
   "execution_count": null,
   "id": "a43cc1bf",
   "metadata": {},
   "outputs": [],
   "source": [
    "=>The empty list value, which is a list value that contains no items."
   ]
  },
  {
   "cell_type": "code",
   "execution_count": null,
   "id": "3842f267",
   "metadata": {},
   "outputs": [],
   "source": [
    "2. In a list of values stored in a variable called spam, how would you assign the value hello; as the\n",
    "third value? (Assume [2, 4, 6, 8, 10] are in spam.)"
   ]
  },
  {
   "cell_type": "code",
   "execution_count": 1,
   "id": "3bbac787",
   "metadata": {},
   "outputs": [
    {
     "data": {
      "text/plain": [
       "[2, 4, 'hell0', 8.1]"
      ]
     },
     "execution_count": 1,
     "metadata": {},
     "output_type": "execute_result"
    }
   ],
   "source": [
    "=>spam=[2,4,6,8.10]\n",
    "spam[2]=\"hell0\"\n",
    "spam"
   ]
  },
  {
   "cell_type": "markdown",
   "id": "eee76de3",
   "metadata": {},
   "source": [
    "Let pretend the spam includes the list [a,b,c,d] for the next three queries.\n",
    "\n",
    "3. What is the value of spam[int(int(3 * 2) / 11)]?"
   ]
  },
  {
   "cell_type": "code",
   "execution_count": 7,
   "id": "9fc2846f",
   "metadata": {},
   "outputs": [
    {
     "data": {
      "text/plain": [
       "'a'"
      ]
     },
     "execution_count": 7,
     "metadata": {},
     "output_type": "execute_result"
    }
   ],
   "source": [
    "spam=['a','b','c','d']\n",
    "spam[int(int(3 * 2) / 11)]"
   ]
  },
  {
   "cell_type": "markdown",
   "id": "01f8b206",
   "metadata": {},
   "source": [
    "4. What is the value of spam[-1]?"
   ]
  },
  {
   "cell_type": "code",
   "execution_count": 8,
   "id": "dce1d291",
   "metadata": {},
   "outputs": [
    {
     "data": {
      "text/plain": [
       "'d'"
      ]
     },
     "execution_count": 8,
     "metadata": {},
     "output_type": "execute_result"
    }
   ],
   "source": [
    "spam[-1]"
   ]
  },
  {
   "cell_type": "markdown",
   "id": "69e0294c",
   "metadata": {},
   "source": [
    "5. What is the value of spam[:2]?"
   ]
  },
  {
   "cell_type": "code",
   "execution_count": 9,
   "id": "32176e35",
   "metadata": {},
   "outputs": [
    {
     "data": {
      "text/plain": [
       "['a', 'b']"
      ]
     },
     "execution_count": 9,
     "metadata": {},
     "output_type": "execute_result"
    }
   ],
   "source": [
    "spam[:2]"
   ]
  },
  {
   "cell_type": "markdown",
   "id": "64674cd2",
   "metadata": {},
   "source": [
    "Let's pretend bacon has the list [3.14,cat,11,cat,True] for the next three questions.\n",
    "\n",
    "6. What is the value of bacon.index('cat')?"
   ]
  },
  {
   "cell_type": "code",
   "execution_count": 11,
   "id": "c5ed090e",
   "metadata": {},
   "outputs": [
    {
     "data": {
      "text/plain": [
       "1"
      ]
     },
     "execution_count": 11,
     "metadata": {},
     "output_type": "execute_result"
    }
   ],
   "source": [
    "bacon=[3.14,'cat',11,'cat',True]\n",
    "bacon.index('cat')"
   ]
  },
  {
   "cell_type": "markdown",
   "id": "0865fc59",
   "metadata": {},
   "source": [
    "7. How does bacon.append(99) change the look of the list value in bacon?"
   ]
  },
  {
   "cell_type": "code",
   "execution_count": 14,
   "id": "d958b261",
   "metadata": {},
   "outputs": [
    {
     "data": {
      "text/plain": [
       "[3.14, 'cat', 11, 'cat', True, 99, 99]"
      ]
     },
     "execution_count": 14,
     "metadata": {},
     "output_type": "execute_result"
    }
   ],
   "source": [
    "bacon.append(99) \n",
    "bacon"
   ]
  },
  {
   "cell_type": "markdown",
   "id": "f97ca49c",
   "metadata": {},
   "source": [
    "8. How does bacon.remove(cat) change the look of the list in bacon?"
   ]
  },
  {
   "cell_type": "code",
   "execution_count": 17,
   "id": "27236feb",
   "metadata": {},
   "outputs": [
    {
     "data": {
      "text/plain": [
       "[3.14, 11, True, 99, 99]"
      ]
     },
     "execution_count": 17,
     "metadata": {},
     "output_type": "execute_result"
    }
   ],
   "source": [
    "bacon.remove('cat')\n",
    "bacon"
   ]
  },
  {
   "cell_type": "markdown",
   "id": "872ced67",
   "metadata": {},
   "source": [
    "9. What are the list concatenation and list replication operators?"
   ]
  },
  {
   "cell_type": "code",
   "execution_count": null,
   "id": "22f2766c",
   "metadata": {},
   "outputs": [],
   "source": [
    "* : is list replication operator.\n",
    "+ : is list concatination operator."
   ]
  },
  {
   "cell_type": "markdown",
   "id": "201f7814",
   "metadata": {},
   "source": [
    "10. What is difference between the list methods append() and insert()?"
   ]
  },
  {
   "cell_type": "code",
   "execution_count": null,
   "id": "57a810fd",
   "metadata": {},
   "outputs": [],
   "source": [
    "=>append() : when we add any value.\n",
    "  insert() : when we add any value in particuler position."
   ]
  },
  {
   "cell_type": "markdown",
   "id": "136462ee",
   "metadata": {},
   "source": [
    "11. What are the two methods for removing items from a list?"
   ]
  },
  {
   "cell_type": "code",
   "execution_count": null,
   "id": "d663f602",
   "metadata": {},
   "outputs": [],
   "source": [
    "=> remove() : It is use particuler value remove [Ex-remove('99')]\n",
    "   pop() : It's work remove the last value."
   ]
  },
  {
   "cell_type": "markdown",
   "id": "55f32003",
   "metadata": {},
   "source": [
    "12. Describe how list values and string values are identical."
   ]
  },
  {
   "cell_type": "code",
   "execution_count": null,
   "id": "999a6315",
   "metadata": {},
   "outputs": [],
   "source": [
    "=>Both lists and strings can be passed to len().\n",
    "  Have indexes and slices.\n",
    "  Can be used in for loops.\n",
    "  Can be concatenated or replicated."
   ]
  },
  {
   "cell_type": "markdown",
   "id": "4d6e8282",
   "metadata": {},
   "source": [
    "13. Whats the difference between tuples and lists?"
   ]
  },
  {
   "cell_type": "code",
   "execution_count": null,
   "id": "5a7306f5",
   "metadata": {},
   "outputs": [],
   "source": [
    "=> Lists : are mutable - they can have values added, removed, or changed. lists use the square brackets, [  ]\n",
    "Tuples : are immutable; they cannot be changed at all. Tuples are written using parentheses, (  )"
   ]
  },
  {
   "cell_type": "markdown",
   "id": "63841ddf",
   "metadata": {},
   "source": [
    "14. How do you type a tuple value that only contains the integer 42?"
   ]
  },
  {
   "cell_type": "code",
   "execution_count": 18,
   "id": "6d18ed59",
   "metadata": {},
   "outputs": [
    {
     "data": {
      "text/plain": [
       "42"
      ]
     },
     "execution_count": 18,
     "metadata": {},
     "output_type": "execute_result"
    }
   ],
   "source": [
    "tuple=(42)\n",
    "tuple"
   ]
  },
  {
   "cell_type": "markdown",
   "id": "934b6095",
   "metadata": {},
   "source": [
    "15. How do you get a list values tuple form? How do you get a tuple values list form?"
   ]
  },
  {
   "cell_type": "code",
   "execution_count": 1,
   "id": "ca501e41",
   "metadata": {},
   "outputs": [
    {
     "data": {
      "text/plain": [
       "(5, 3)"
      ]
     },
     "execution_count": 1,
     "metadata": {},
     "output_type": "execute_result"
    }
   ],
   "source": [
    "l = [5,3]\n",
    "l1 = tuple(l)\n",
    "l1\n"
   ]
  },
  {
   "cell_type": "code",
   "execution_count": 2,
   "id": "bf79b783",
   "metadata": {},
   "outputs": [
    {
     "data": {
      "text/plain": [
       "[3, 4]"
      ]
     },
     "execution_count": 2,
     "metadata": {},
     "output_type": "execute_result"
    }
   ],
   "source": [
    "l2=(3,4)\n",
    "l3=list(l2)\n",
    "l3"
   ]
  },
  {
   "cell_type": "markdown",
   "id": "a90f595c",
   "metadata": {},
   "source": [
    "16. Variables that \"contain\" list values are not necessarily lists themselves. Instead, what do they\n",
    "contain?"
   ]
  },
  {
   "cell_type": "code",
   "execution_count": null,
   "id": "d22fb0b8",
   "metadata": {},
   "outputs": [],
   "source": []
  },
  {
   "cell_type": "markdown",
   "id": "4c278a9e",
   "metadata": {},
   "source": [
    "17. How do you distinguish between copy.copy() and copy.deepcopy()?"
   ]
  },
  {
   "cell_type": "code",
   "execution_count": null,
   "id": "8a8851c9",
   "metadata": {},
   "outputs": [],
   "source": [
    "=>The copy.copy() function will do a shallow copy of a list.\n",
    "  The copy.deepcopy() function will do a deep copy of a list. Only copy.deepcopy() will duplicate any lists inside the list."
   ]
  }
 ],
 "metadata": {
  "kernelspec": {
   "display_name": "Python 3 (ipykernel)",
   "language": "python",
   "name": "python3"
  },
  "language_info": {
   "codemirror_mode": {
    "name": "ipython",
    "version": 3
   },
   "file_extension": ".py",
   "mimetype": "text/x-python",
   "name": "python",
   "nbconvert_exporter": "python",
   "pygments_lexer": "ipython3",
   "version": "3.10.9"
  }
 },
 "nbformat": 4,
 "nbformat_minor": 5
}
